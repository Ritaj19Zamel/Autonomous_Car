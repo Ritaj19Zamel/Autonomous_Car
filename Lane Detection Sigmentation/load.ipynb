{
 "cells": [
  {
   "cell_type": "code",
   "execution_count": 1,
   "id": "d3277609",
   "metadata": {},
   "outputs": [],
   "source": [
    "from scipy.misc import imresize\n",
    "import numpy as np \n",
    "import cv2\n",
    "from keras.models import load_model\n",
    "model = load_model(r'F:\\Lane_Detection\\model.h5')"
   ]
  },
  {
   "cell_type": "code",
   "execution_count": 6,
   "id": "76a7e844",
   "metadata": {},
   "outputs": [],
   "source": [
    "class Lanes():\n",
    "    def __init__(self):\n",
    "        self.recent_fit = []\n",
    "        self.avg_fit = []\n",
    "\n",
    "def road_lines(image):\n",
    "        small_img = imresize(image , (80 ,160 ,3))\n",
    "        small_img = np.array(small_img)\n",
    "        small_img = small_img[None,:,:,:]\n",
    "\n",
    "        prediction = model.predict(small_img)[0] * 255\n",
    "\n",
    "        lane.recent_fit.append(prediction)\n",
    "\n",
    "        if len(lane.recent_fit) > 5 :\n",
    "            lane.recent_fit = lane.recent_fit[1:]\n",
    "        \n",
    "        lane.avg_fit = np.mean(np.array([i for i in lane.recent_fit]) ,axis=0)\n",
    "\n",
    "        blanks = np.zeros_like(lane.avg_fit).astype(np.uint8)\n",
    "        lane_drawn = np.dstack((blanks , lane.avg_fit , blanks))\n",
    "\n",
    "        lane_image = imresize(lane_drawn , (720,1280 , 3))\n",
    "        result = cv2.addWeighted(image , 1 , lane_image , 1 , 0 )\n",
    "\n",
    "        return result"
   ]
  },
  {
   "cell_type": "code",
   "execution_count": null,
   "id": "16ac220e",
   "metadata": {},
   "outputs": [
    {
     "name": "stderr",
     "output_type": "stream",
     "text": [
      "C:\\Users\\Zakaria Ahmed\\anaconda3\\envs\\LaneDetection\\lib\\site-packages\\ipykernel_launcher.py:7: DeprecationWarning:     `imresize` is deprecated!\n",
      "    `imresize` is deprecated in SciPy 1.0.0, and will be removed in 1.2.0.\n",
      "    Use ``skimage.transform.resize`` instead.\n",
      "  import sys\n",
      "C:\\Users\\Zakaria Ahmed\\anaconda3\\envs\\LaneDetection\\lib\\site-packages\\ipykernel_launcher.py:23: DeprecationWarning:     `imresize` is deprecated!\n",
      "    `imresize` is deprecated in SciPy 1.0.0, and will be removed in 1.2.0.\n",
      "    Use ``skimage.transform.resize`` instead.\n"
     ]
    }
   ],
   "source": [
    "lane = Lanes()\n",
    "cap = cv2.VideoCapture(r\"F:\\Lane_Detection\\test1.mp4\")\n",
    "while cap.isOpened():\n",
    "    _ ,frame = cap.read()\n",
    "    lane_detect = road_lines(frame)\n",
    "    cv2.imshow(\"Detecor\" , lane_detect)\n",
    "    if cv2.waitKey(1) & 0xFF == ord('q') :\n",
    "        break\n",
    "cv2.destroyAllWindows()\n",
    "# vid_input = VideoFileClip(r'F:\\Lane_Detection\\test1.mp4' , audio=False)\n",
    "# vid_output = 'lanes_output1.mp4' \n",
    "# vid_clip = vid_input.fl_image(road_lines)\n",
    "# vid_clip.write_videofile(vid_output)"
   ]
  },
  {
   "cell_type": "code",
   "execution_count": null,
   "id": "502c48e2",
   "metadata": {
    "scrolled": false
   },
   "outputs": [],
   "source": [
    "# import cv2\n",
    "\n",
    "# import numpy as np \n",
    "# import tensorflow as tf \n",
    "# from tensorflow.keras.models import load_model\n",
    "\n",
    "# model = load_model(r'F:\\Lane_Detection\\model.h5')\n",
    "# model.get_weights()\n",
    "# model.summary()"
   ]
  },
  {
   "cell_type": "code",
   "execution_count": null,
   "id": "9aad56a7",
   "metadata": {},
   "outputs": [],
   "source": []
  },
  {
   "cell_type": "code",
   "execution_count": null,
   "id": "69c099a0",
   "metadata": {},
   "outputs": [],
   "source": []
  }
 ],
 "metadata": {
  "kernelspec": {
   "display_name": "Python 3",
   "language": "python",
   "name": "python3"
  },
  "language_info": {
   "codemirror_mode": {
    "name": "ipython",
    "version": 3
   },
   "file_extension": ".py",
   "mimetype": "text/x-python",
   "name": "python",
   "nbconvert_exporter": "python",
   "pygments_lexer": "ipython3",
   "version": "3.6.13"
  }
 },
 "nbformat": 4,
 "nbformat_minor": 5
}
