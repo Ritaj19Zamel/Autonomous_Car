{
 "cells": [
  {
   "cell_type": "code",
   "execution_count": 1,
   "id": "70ed0771",
   "metadata": {},
   "outputs": [
    {
     "name": "stderr",
     "output_type": "stream",
     "text": [
      "Cloning into 'yolov7'...\n"
     ]
    }
   ],
   "source": [
    "# !git clone https://github.com/WongKinYiu/yolov7.git"
   ]
  },
  {
   "cell_type": "code",
   "execution_count": 6,
   "id": "2626fa98",
   "metadata": {},
   "outputs": [
    {
     "name": "stdout",
     "output_type": "stream",
     "text": [
      "C:\\Users\\20128\\yolov7\n"
     ]
    }
   ],
   "source": [
    "# cd yolov7"
   ]
  },
  {
   "cell_type": "code",
   "execution_count": 9,
   "id": "6905da69",
   "metadata": {},
   "outputs": [
    {
     "name": "stdout",
     "output_type": "stream",
     "text": [
      "Namespace(weights=['yolov7.pt'], source='0', img_size=640, conf_thres=0.25, iou_thres=0.45, device='', view_img=False, save_txt=False, save_conf=False, nosave=False, classes=[0], agnostic_nms=False, augment=False, update=False, project='runs/detect', name='exp', exist_ok=False, no_trace=False)\n",
      "Fusing layers... \n",
      "RepConv.fuse_repvgg_block\n",
      "RepConv.fuse_repvgg_block\n",
      "RepConv.fuse_repvgg_block\n",
      " Convert model to Traced-model... \n",
      " traced_script_module saved! \n",
      " model is traced! \n",
      "\n",
      "1/1: 0...  success (640x480 at 30.00 FPS).\n",
      "\n",
      "0: 1 person, Done. (679.7ms) Inference, (12.3ms) NMS\n",
      "0: 1 person, Done. (641.6ms) Inference, (0.0ms) NMS\n",
      "0: 1 person, Done. (619.5ms) Inference, (0.0ms) NMS\n",
      "0: 1 person, Done. (629.2ms) Inference, (0.0ms) NMS\n",
      "0: 1 person, Done. (654.5ms) Inference, (0.0ms) NMS\n",
      "0: 1 person, Done. (622.9ms) Inference, (0.0ms) NMS\n",
      "0: 1 person, Done. (625.1ms) Inference, (0.0ms) NMS\n",
      "0: 1 person, Done. (623.9ms) Inference, (0.0ms) NMS\n",
      "0: 1 person, Done. (643.3ms) Inference, (0.0ms) NMS\n"
     ]
    },
    {
     "name": "stderr",
     "output_type": "stream",
     "text": [
      "C:\\Users\\20128\\anaconda3\\lib\\site-packages\\scipy\\__init__.py:146: UserWarning: A NumPy version >=1.16.5 and <1.23.0 is required for this version of SciPy (detected version 1.24.1\n",
      "  warnings.warn(f\"A NumPy version >={np_minversion} and <{np_maxversion}\"\n",
      "YOLOR  v0.1-121-g2fdc7f1 torch 1.12.1 CPU\n",
      "\n",
      "Model Summary: 306 layers, 36905341 parameters, 6652669 gradients\n",
      "C:\\Users\\20128\\anaconda3\\lib\\site-packages\\torch\\functional.py:478: UserWarning: torch.meshgrid: in an upcoming release, it will be required to pass the indexing argument. (Triggered internally at  C:\\cb\\pytorch_1000000000000\\work\\aten\\src\\ATen\\native\\TensorShape.cpp:2895.)\n",
      "  return _VF.meshgrid(tensors, **kwargs)  # type: ignore[attr-defined]\n"
     ]
    },
    {
     "name": "stdout",
     "output_type": "stream",
     "text": [
      "0: 1 person, Done. (626.7ms) Inference, (4.0ms) NMS\n",
      "0: 1 person, Done. (625.8ms) Inference, (0.0ms) NMS\n",
      "0: 1 person, Done. (650.0ms) Inference, (0.0ms) NMS\n",
      "0: 1 person, Done. (666.7ms) Inference, (0.0ms) NMS\n",
      "0: 1 person, Done. (607.4ms) Inference, (4.0ms) NMS\n",
      "0: 1 person, Done. (639.0ms) Inference, (0.0ms) NMS\n",
      "0: 1 person, Done. (631.4ms) Inference, (0.5ms) NMS\n",
      "0: 2 persons, Done. (613.7ms) Inference, (0.0ms) NMS\n",
      "0: 1 person, Done. (629.5ms) Inference, (4.0ms) NMS\n",
      "0: 1 person, Done. (625.0ms) Inference, (0.0ms) NMS\n",
      "0: 1 person, Done. (602.6ms) Inference, (0.0ms) NMS\n",
      "0: 1 person, Done. (647.4ms) Inference, (4.0ms) NMS\n",
      "0: 1 person, Done. (635.7ms) Inference, (4.0ms) NMS\n",
      "0: 1 person, Done. (634.7ms) Inference, (4.0ms) NMS\n",
      "0: 1 person, Done. (650.1ms) Inference, (0.5ms) NMS\n",
      "0: 1 person, Done. (630.9ms) Inference, (0.0ms) NMS\n",
      "0: 1 person, Done. (655.6ms) Inference, (0.0ms) NMS\n",
      "0: 1 person, Done. (616.5ms) Inference, (0.0ms) NMS\n",
      "0: 1 person, Done. (618.1ms) Inference, (0.0ms) NMS\n",
      "0: 1 person, Done. (613.4ms) Inference, (0.0ms) NMS\n",
      "0: 1 person, Done. (591.8ms) Inference, (0.0ms) NMS\n",
      "0: 1 person, Done. (638.7ms) Inference, (0.0ms) NMS\n",
      "0: 1 person, Done. (651.7ms) Inference, (0.0ms) NMS\n",
      "0: 1 person, Done. (635.2ms) Inference, (1.0ms) NMS\n",
      "0: 1 person, Done. (647.0ms) Inference, (0.5ms) NMS\n",
      "0: 1 person, Done. (663.2ms) Inference, (1.2ms) NMS\n",
      "0: 1 person, Done. (663.0ms) Inference, (1.0ms) NMS\n",
      "0: 1 person, Done. (681.4ms) Inference, (1.0ms) NMS\n",
      "Done. (24.182s)\n"
     ]
    }
   ],
   "source": [
    "!python detect.py --weights yolov7.pt --source 0 --classes 0"
   ]
  },
  {
   "cell_type": "code",
   "execution_count": null,
   "id": "41fe9ddd",
   "metadata": {},
   "outputs": [],
   "source": []
  },
  {
   "cell_type": "code",
   "execution_count": null,
   "id": "2669f03d",
   "metadata": {},
   "outputs": [],
   "source": []
  }
 ],
 "metadata": {
  "kernelspec": {
   "display_name": "Python 3 (ipykernel)",
   "language": "python",
   "name": "python3"
  },
  "language_info": {
   "codemirror_mode": {
    "name": "ipython",
    "version": 3
   },
   "file_extension": ".py",
   "mimetype": "text/x-python",
   "name": "python",
   "nbconvert_exporter": "python",
   "pygments_lexer": "ipython3",
   "version": "3.9.12"
  }
 },
 "nbformat": 4,
 "nbformat_minor": 5
}
